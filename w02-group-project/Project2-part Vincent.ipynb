{
 "cells": [
  {
   "cell_type": "code",
   "execution_count": 196,
   "metadata": {
    "collapsed": true
   },
   "outputs": [],
   "source": [
    "import pandas as pd\n",
    "import matplotlib.pyplot as plt"
   ]
  },
  {
   "cell_type": "code",
   "execution_count": 226,
   "metadata": {
    "collapsed": false
   },
   "outputs": [],
   "source": [
    "df= pd.read_csv('all.csv')"
   ]
  },
  {
   "cell_type": "code",
   "execution_count": 227,
   "metadata": {
    "collapsed": false
   },
   "outputs": [
    {
     "name": "stderr",
     "output_type": "stream",
     "text": [
      "/Users/FrederiqueRomeyn/anaconda/lib/python2.7/site-packages/ipykernel/__main__.py:2: FutureWarning: sort(....) is deprecated, use sort_index(.....)\n",
      "  from ipykernel import kernelapp as app\n"
     ]
    }
   ],
   "source": [
    "df_normalized = df.copy()\n",
    "df_normalized = df_normalized.sort()"
   ]
  },
  {
   "cell_type": "code",
   "execution_count": 228,
   "metadata": {
    "collapsed": false
   },
   "outputs": [],
   "source": [
    "df_normalized.iloc[11925:,13:17]=df_normalized.iloc[11925:,13:17] *10"
   ]
  },
  {
   "cell_type": "code",
   "execution_count": 201,
   "metadata": {
    "collapsed": false
   },
   "outputs": [
    {
     "data": {
      "text/plain": [
       "Date             object\n",
       "SP-Open         float64\n",
       "SP-High         float64\n",
       "SP-Low          float64\n",
       "SP-Close        float64\n",
       "SP-Volume       float64\n",
       "SP-Adj Close    float64\n",
       "EN-Open         float64\n",
       "EN-High         float64\n",
       "EN-Low          float64\n",
       "EN-Close        float64\n",
       "EN-Volume       float64\n",
       "EN-Adj Close    float64\n",
       "BR-Open         float64\n",
       "BR-High         float64\n",
       "BR-Low          float64\n",
       "BR-Close        float64\n",
       "BR-Volume       float64\n",
       "BR-Adj Close    float64\n",
       "HK-Open         float64\n",
       "HK-High         float64\n",
       "HK-Low          float64\n",
       "HK-Close        float64\n",
       "HK-Volume       float64\n",
       "HK-Adj Close    float64\n",
       "dtype: object"
      ]
     },
     "execution_count": 201,
     "metadata": {},
     "output_type": "execute_result"
    }
   ],
   "source": [
    "df_normalized.dtypes"
   ]
  },
  {
   "cell_type": "code",
   "execution_count": 202,
   "metadata": {
    "collapsed": true
   },
   "outputs": [],
   "source": [
    "df_normalized['Date']= pd.to_datetime(df_normalized['Date'])"
   ]
  },
  {
   "cell_type": "code",
   "execution_count": 203,
   "metadata": {
    "collapsed": false
   },
   "outputs": [
    {
     "data": {
      "text/plain": [
       "Date            datetime64[ns]\n",
       "SP-Open                float64\n",
       "SP-High                float64\n",
       "SP-Low                 float64\n",
       "SP-Close               float64\n",
       "SP-Volume              float64\n",
       "SP-Adj Close           float64\n",
       "EN-Open                float64\n",
       "EN-High                float64\n",
       "EN-Low                 float64\n",
       "EN-Close               float64\n",
       "EN-Volume              float64\n",
       "EN-Adj Close           float64\n",
       "BR-Open                float64\n",
       "BR-High                float64\n",
       "BR-Low                 float64\n",
       "BR-Close               float64\n",
       "BR-Volume              float64\n",
       "BR-Adj Close           float64\n",
       "HK-Open                float64\n",
       "HK-High                float64\n",
       "HK-Low                 float64\n",
       "HK-Close               float64\n",
       "HK-Volume              float64\n",
       "HK-Adj Close           float64\n",
       "dtype: object"
      ]
     },
     "execution_count": 203,
     "metadata": {},
     "output_type": "execute_result"
    }
   ],
   "source": [
    "df_normalized.dtypes"
   ]
  },
  {
   "cell_type": "code",
   "execution_count": 204,
   "metadata": {
    "collapsed": true
   },
   "outputs": [],
   "source": [
    "df_normalized.index = df_normalized['Date']"
   ]
  },
  {
   "cell_type": "code",
   "execution_count": 209,
   "metadata": {
    "collapsed": false
   },
   "outputs": [],
   "source": [
    "df_normalized['SP-Return'] = df_normalized['SP-Close'].pct_change()\n",
    "df_normalized['EN-Return'] = df_normalized['EN-Close'].pct_change()\n",
    "df_normalized['BR-Return'] = df_normalized['BR-Close'].pct_change()\n",
    "df_normalized['HK-Return'] = df_normalized['HK-Close'].pct_change()"
   ]
  },
  {
   "cell_type": "code",
   "execution_count": 210,
   "metadata": {
    "collapsed": false
   },
   "outputs": [],
   "source": [
    "#df_normalized['SP-Return'].plot()"
   ]
  },
  {
   "cell_type": "code",
   "execution_count": 211,
   "metadata": {
    "collapsed": false
   },
   "outputs": [],
   "source": [
    "#plt.show()"
   ]
  },
  {
   "cell_type": "code",
   "execution_count": 212,
   "metadata": {
    "collapsed": false
   },
   "outputs": [],
   "source": [
    "#import matplotlib.dates as mdates\n",
    "#df_normalized['EN-Return'].plot()\n",
    "#plt.show()"
   ]
  },
  {
   "cell_type": "code",
   "execution_count": 213,
   "metadata": {
    "collapsed": false
   },
   "outputs": [],
   "source": [
    "#df_normalized['BR-Return'].plot()\n",
    "#plt.show()"
   ]
  },
  {
   "cell_type": "code",
   "execution_count": 214,
   "metadata": {
    "collapsed": false
   },
   "outputs": [],
   "source": [
    "#df_normalized['HK-Return'].plot()\n",
    "#plt.show()"
   ]
  },
  {
   "cell_type": "code",
   "execution_count": 215,
   "metadata": {
    "collapsed": false
   },
   "outputs": [],
   "source": [
    "df_normalized['SP-Return'].hist(bins = 100)\n",
    "plt.yscale('log')"
   ]
  },
  {
   "cell_type": "code",
   "execution_count": 216,
   "metadata": {
    "collapsed": false
   },
   "outputs": [
    {
     "data": {
      "image/png": "[encoded data removed]",
      "text/plain": [
       "<matplotlib.figure.Figure at 0x11efb5490>"
      ]
     },
     "metadata": {},
     "output_type": "display_data"
    }
   ],
   "source": [
    "plt.show()"
   ]
  },
  {
   "cell_type": "code",
   "execution_count": 217,
   "metadata": {
    "collapsed": false
   },
   "outputs": [
    {
     "data": {
      "image/png": "[encoded data removed]",
      "text/plain": [
       "<matplotlib.figure.Figure at 0x11e267650>"
      ]
     },
     "metadata": {},
     "output_type": "display_data"
    }
   ],
   "source": [
    "df_normalized['EN-Return'].hist(bins = 100)\n",
    "plt.yscale('log')\n",
    "plt.show()"
   ]
  },
  {
   "cell_type": "code",
   "execution_count": 218,
   "metadata": {
    "collapsed": false
   },
   "outputs": [
    {
     "data": {
      "image/png": "[encoded data removed]",
      "text/plain": [
       "<matplotlib.figure.Figure at 0x11d9c7d50>"
      ]
     },
     "metadata": {},
     "output_type": "display_data"
    }
   ],
   "source": [
    "df_normalized['BR-Return'].hist(bins = 100)\n",
    "plt.yscale('log')\n",
    "plt.show()"
   ]
  },
  {
   "cell_type": "code",
   "execution_count": 219,
   "metadata": {
    "collapsed": false
   },
   "outputs": [
    {
     "data": {
      "image/png": "[encoded data removed]",
      "text/plain": [
       "<matplotlib.figure.Figure at 0x11daad590>"
      ]
     },
     "metadata": {},
     "output_type": "display_data"
    }
   ],
   "source": [
    "df_normalized['HK-Return'].hist(bins = 100)\n",
    "plt.yscale('log')\n",
    "plt.show()"
   ]
  },
  {
   "cell_type": "code",
   "execution_count": 220,
   "metadata": {
    "collapsed": false
   },
   "outputs": [
    {
     "name": "stdout",
     "output_type": "stream",
     "text": [
      "count    16809.000000\n",
      "mean         0.000336\n",
      "std          0.009675\n",
      "min         -0.204669\n",
      "25%               NaN\n",
      "50%               NaN\n",
      "75%               NaN\n",
      "max          0.115800\n",
      "Name: SP-Return, dtype: float64\n",
      "-0.64071294667\n",
      "20.7945907305\n"
     ]
    }
   ],
   "source": [
    "print(df_normalized['SP-Return'].describe())\n",
    "print(df_normalized['SP-Return'].skew())\n",
    "print(df_normalized['SP-Return'].kurtosis())"
   ]
  },
  {
   "cell_type": "code",
   "execution_count": 221,
   "metadata": {
    "collapsed": false
   },
   "outputs": [
    {
     "name": "stdout",
     "output_type": "stream",
     "text": [
      "count    4302.000000\n",
      "mean        0.000067\n",
      "std         0.013648\n",
      "min        -0.085622\n",
      "25%              NaN\n",
      "50%              NaN\n",
      "75%              NaN\n",
      "max         0.108731\n",
      "Name: EN-Return, dtype: float64\n",
      "0.107451065639\n",
      "5.23728033042\n"
     ]
    }
   ],
   "source": [
    "print(df_normalized['EN-Return'].describe())\n",
    "print(df_normalized['EN-Return'].skew())\n",
    "print(df_normalized['EN-Return'].kurtosis())"
   ]
  },
  {
   "cell_type": "code",
   "execution_count": 222,
   "metadata": {
    "collapsed": false
   },
   "outputs": [
    {
     "name": "stdout",
     "output_type": "stream",
     "text": [
      "count    5832.000000\n",
      "mean        0.001618\n",
      "std         0.023333\n",
      "min        -0.158090\n",
      "25%              NaN\n",
      "50%              NaN\n",
      "75%              NaN\n",
      "max         0.334190\n",
      "Name: BR-Return, dtype: float64\n",
      "0.951323282807\n",
      "13.9204719501\n"
     ]
    }
   ],
   "source": [
    "print(df_normalized['BR-Return'].describe())\n",
    "print(df_normalized['BR-Return'].skew())\n",
    "print(df_normalized['BR-Return'].kurtosis())"
   ]
  },
  {
   "cell_type": "code",
   "execution_count": 223,
   "metadata": {
    "collapsed": false
   },
   "outputs": [
    {
     "name": "stdout",
     "output_type": "stream",
     "text": [
      "count    7411.000000\n",
      "mean        0.000440\n",
      "std         0.016678\n",
      "min        -0.333304\n",
      "25%              NaN\n",
      "50%              NaN\n",
      "75%              NaN\n",
      "max         0.188236\n",
      "Name: HK-Return, dtype: float64\n",
      "-1.22103353513\n",
      "33.9312743741\n"
     ]
    }
   ],
   "source": [
    "print(df_normalized['HK-Return'].describe())\n",
    "print(df_normalized['HK-Return'].skew())\n",
    "print(df_normalized['HK-Return'].kurtosis())"
   ]
  },
  {
   "cell_type": "code",
   "execution_count": 224,
   "metadata": {
    "collapsed": false
   },
   "outputs": [],
   "source": [
    "#import numpy as np\n",
    "#corr_HK_BR= np.corrcoef(df_normalized['HK-Return'], df_normalized['BR-Return'])[1,0]\n",
    "#plt.scatter(df_normalized['HK-Return'], df_normalized['BR-Return'])"
   ]
  },
  {
   "cell_type": "code",
   "execution_count": 225,
   "metadata": {
    "collapsed": false
   },
   "outputs": [],
   "source": [
    "#plt.show()"
   ]
  }
 ],
 "metadata": {
  "anaconda-cloud": {},
  "kernelspec": {
   "display_name": "Python [conda root]",
   "language": "python",
   "name": "conda-root-py"
  },
  "language_info": {
   "codemirror_mode": {
    "name": "ipython",
    "version": 2
   },
   "file_extension": ".py",
   "mimetype": "text/x-python",
   "name": "python",
   "nbconvert_exporter": "python",
   "pygments_lexer": "ipython2",
   "version": "2.7.12"
  }
 },
 "nbformat": 4,
 "nbformat_minor": 1
}
