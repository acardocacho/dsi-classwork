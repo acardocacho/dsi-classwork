{
 "cells": [
  {
   "cell_type": "markdown",
   "metadata": {},
   "source": [
    "# Turkey Time"
   ]
  },
  {
   "cell_type": "markdown",
   "metadata": {},
   "source": [
    "### Initial imports"
   ]
  },
  {
   "cell_type": "code",
   "execution_count": 20,
   "metadata": {
    "collapsed": false
   },
   "outputs": [],
   "source": [
    "import csv\n",
    "import numpy as np\n",
    "import pandas as pd\n",
    "import matplotlib.pyplot as plt\n",
    "import seaborn as sns\n",
    "from __future__ import division"
   ]
  },
  {
   "cell_type": "markdown",
   "metadata": {},
   "source": [
    "### Importing csv file into list"
   ]
  },
  {
   "cell_type": "code",
   "execution_count": 21,
   "metadata": {
    "collapsed": false
   },
   "outputs": [
    {
     "name": "stdout",
     "output_type": "stream",
     "text": [
      "Initial number of columns: 65\n",
      "Total number of respondents: 1058\n",
      "===========================================\n",
      "RespondentID\n",
      "Do you celebrate Thanksgiving?\n",
      "Age\n",
      "What is your gender?\n",
      "How much total combined money did all members of your HOUSEHOLD earn last year?\n",
      "US Region\n"
     ]
    }
   ],
   "source": [
    "with open('w01-5.1-thanksgiving-2015-poll-data.csv', 'rU') as csvfile:\n",
    "    reader = csv.reader(csvfile)\n",
    "    rows = list(reader)\n",
    "        \n",
    "#for r in rows[0]:\n",
    "#    print r[:50]\n",
    "\n",
    "print 'Initial number of columns:', len(rows[0])\n",
    "print 'Total number of respondents:', len(rows)-1\n",
    "print'==========================================='\n",
    "\n",
    "for r in rows[0][:2]+rows[0][-4:]:\n",
    "    print r\n"
   ]
  },
  {
   "cell_type": "markdown",
   "metadata": {},
   "source": [
    "### Counting percentage of people who celebrate Thanksgiving"
   ]
  },
  {
   "cell_type": "code",
   "execution_count": 22,
   "metadata": {
    "collapsed": false
   },
   "outputs": [
    {
     "name": "stdout",
     "output_type": "stream",
     "text": [
      "Percentage Yes: 92.63\n",
      "Percentage No: 7.37\n"
     ]
    }
   ],
   "source": [
    "arr_answers=np.array(rows)[1:]\n",
    "\n",
    "def count_in_column(col_number, answer):\n",
    "    count_answer=0\n",
    "    for i in range(arr_answers.shape[0]):\n",
    "        if arr_answers[i,col_number]==answer:\n",
    "            count_answer+=1\n",
    "    return count_answer\n",
    "\n",
    "print 'Percentage Yes:', round(count_in_column(1, 'Yes')/arr_answers.shape[0]*100, 2)\n",
    "print 'Percentage No:', round(count_in_column(1, 'No')/arr_answers.shape[0]*100, 2)\n"
   ]
  },
  {
   "cell_type": "markdown",
   "metadata": {},
   "source": [
    "### Check for duplicates in respondent ID column"
   ]
  },
  {
   "cell_type": "code",
   "execution_count": 23,
   "metadata": {
    "collapsed": false
   },
   "outputs": [
    {
     "name": "stdout",
     "output_type": "stream",
     "text": [
      "Number of duplicates: 0\n",
      "   RespondentID Do you celebrate Thanksgiving?      Age What is your gender?  \\\n",
      "0    4337954960                            Yes  18 - 29                 Male   \n",
      "1    4337951949                            Yes  18 - 29               Female   \n",
      "2    4337935621                            Yes  18 - 29                 Male   \n",
      "3    4337933040                            Yes  30 - 44                 Male   \n",
      "4    4337931983                            Yes  30 - 44                 Male   \n",
      "5    4337929779                            Yes  18 - 29                 Male   \n",
      "6    4337924420                            Yes  18 - 29                 Male   \n",
      "7    4337916002                            Yes  18 - 29                 Male   \n",
      "8    4337914977                            Yes  30 - 44                 Male   \n",
      "9    4337899817                            Yes  30 - 44                 Male   \n",
      "\n",
      "  How much total combined money did all members of your HOUSEHOLD earn last year?  \\\n",
      "0                                 $75,000 to $99,999                                \n",
      "1                                 $50,000 to $74,999                                \n",
      "2                                       $0 to $9,999                                \n",
      "3                                    $200,000 and up                                \n",
      "4                               $100,000 to $124,999                                \n",
      "5                                       $0 to $9,999                                \n",
      "6                                 $25,000 to $49,999                                \n",
      "7                               Prefer not to answer                                \n",
      "8                                 $75,000 to $99,999                                \n",
      "9                                 $25,000 to $49,999                                \n",
      "\n",
      "            US Region  \n",
      "0     Middle Atlantic  \n",
      "1  East South Central  \n",
      "2            Mountain  \n",
      "3             Pacific  \n",
      "4             Pacific  \n",
      "5             Pacific  \n",
      "6  East North Central  \n",
      "7            Mountain  \n",
      "8     Middle Atlantic  \n",
      "9  East South Central  \n"
     ]
    }
   ],
   "source": [
    "all_answers_pd=pd.read_csv('w01-5.1-thanksgiving-2015-poll-data.csv')\n",
    "print 'Number of duplicates:', all_answers_pd['RespondentID'].duplicated().sum()\n",
    "\n",
    "answers_pd=all_answers_pd[['RespondentID',\n",
    "                           'Do you celebrate Thanksgiving?',\n",
    "                           'Age',\n",
    "                           'What is your gender?',\n",
    "                           'How much total combined money did all members of your HOUSEHOLD earn last year?', \n",
    "                           'US Region']]\n",
    "\n",
    "print answers_pd[:10]"
   ]
  },
  {
   "cell_type": "code",
   "execution_count": 24,
   "metadata": {
    "collapsed": false
   },
   "outputs": [
    {
     "name": "stdout",
     "output_type": "stream",
     "text": [
      "Do you celebrate Thanksgiving?  No  Yes\n",
      "Age                                    \n",
      "18 - 29                         31  185\n",
      "30 - 44                         24  235\n",
      "45 - 59                         17  269\n",
      "60+                              6  258\n"
     ]
    },
    {
     "data": {
      "image/png": "[encoded data removed]",
      "text/plain": [
       "<matplotlib.figure.Figure at 0x1156ea6d0>"
      ]
     },
     "metadata": {},
     "output_type": "display_data"
    }
   ],
   "source": [
    "x = answers_pd.pivot_table(values='RespondentID', index='Age', columns='Do you celebrate Thanksgiving?', aggfunc='count')\n",
    "print x\n",
    "\n",
    "celeb_no = x['No']\n",
    "celeb_yes = x['Yes']\n",
    "ind = np.arange(4)    # the x locations for the groups\n",
    "width = 0.50       # the width of the bars: can also be len(x) sequence\n",
    "\n",
    "p1 = plt.bar(ind, celeb_yes, width, color='g')\n",
    "p2 = plt.bar(ind, celeb_no, width, color='r', bottom=celeb_yes)\n",
    "\n",
    "#find dimention for y\n",
    "#print max(x['Yes'])+max(x['No'])\n",
    "\n",
    "plt.ylabel('Scores')\n",
    "plt.title('Scores by age group and celebration')\n",
    "plt.xticks(ind + width/2., ('18-29', '30-44', '45-59', '60+'))\n",
    "plt.yticks(np.arange(0, 301, 50))\n",
    "plt.legend((p1[0], p2[0]), ('Yes', 'No'))\n",
    "plt.show()\n"
   ]
  },
  {
   "cell_type": "code",
   "execution_count": null,
   "metadata": {
    "collapsed": true
   },
   "outputs": [],
   "source": []
  },
  {
   "cell_type": "code",
   "execution_count": null,
   "metadata": {
    "collapsed": true
   },
   "outputs": [],
   "source": []
  }
 ],
 "metadata": {
  "anaconda-cloud": {},
  "kernelspec": {
   "display_name": "Python [conda root]",
   "language": "python",
   "name": "conda-root-py"
  },
  "language_info": {
   "codemirror_mode": {
    "name": "ipython",
    "version": 2
   },
   "file_extension": ".py",
   "mimetype": "text/x-python",
   "name": "python",
   "nbconvert_exporter": "python",
   "pygments_lexer": "ipython2",
   "version": "2.7.12"
  }
 },
 "nbformat": 4,
 "nbformat_minor": 1
}
